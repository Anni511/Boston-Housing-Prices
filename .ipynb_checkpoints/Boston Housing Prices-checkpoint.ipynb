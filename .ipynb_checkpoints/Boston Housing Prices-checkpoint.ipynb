{
 "cells": [
  {
   "cell_type": "code",
   "execution_count": 1,
   "metadata": {
    "collapsed": true
   },
   "outputs": [],
   "source": [
    "import numpy as np\n",
    "import pandas as pd\n",
    "from sklearn.linear_model import LinearRegression, SGDRegressor\n",
    "from sklearn.preprocessing import StandardScaler\n",
    "from sklearn.tree import DecisionTreeRegressor\n",
    "from sklearn import svm,datasets\n",
    "from sklearn.model_selection import GridSearchCV\n",
    "from sklearn.model_selection import train_test_split\n",
    "from sklearn.metrics import r2_score"
   ]
  },
  {
   "cell_type": "code",
   "execution_count": 2,
   "metadata": {
    "collapsed": true
   },
   "outputs": [],
   "source": [
    "Boston = datasets.load_boston()"
   ]
  },
  {
   "cell_type": "code",
   "execution_count": 3,
   "metadata": {
    "collapsed": true
   },
   "outputs": [],
   "source": [
    "X = Boston.data\n",
    "sc = StandardScaler()\n",
    "X_std = sc.fit_transform(X)"
   ]
  },
  {
   "cell_type": "code",
   "execution_count": 4,
   "metadata": {
    "collapsed": true
   },
   "outputs": [],
   "source": [
    "X_train, X_test, Y_train, Y_test = train_test_split(X_std, Boston.target)"
   ]
  },
  {
   "cell_type": "markdown",
   "metadata": {},
   "source": [
    "## LinearRegression"
   ]
  },
  {
   "cell_type": "code",
   "execution_count": 5,
   "metadata": {},
   "outputs": [
    {
     "name": "stdout",
     "output_type": "stream",
     "text": [
      "LinearRegression(copy_X=True, fit_intercept=True, n_jobs=1, normalize=False)\n"
     ]
    },
    {
     "data": {
      "text/plain": [
       "0.71163889531520175"
      ]
     },
     "execution_count": 5,
     "metadata": {},
     "output_type": "execute_result"
    }
   ],
   "source": [
    "clfLR = LinearRegression()\n",
    "grid = {'n_jobs' : [1,2,3]}\n",
    "LR = GridSearchCV(clfLR,grid)\n",
    "LR.fit(X_train,Y_train)\n",
    "\n",
    "final_clf = LR.best_estimator_\n",
    "print(final_clf)\n",
    "\n",
    "final_clf.fit(X_train,Y_train)\n",
    "final_prediction = final_clf.predict(X_test)\n",
    "r2_score(Y_test,final_prediction)"
   ]
  },
  {
   "cell_type": "markdown",
   "metadata": {},
   "source": [
    "## Logistic Regression Using SGD"
   ]
  },
  {
   "cell_type": "code",
   "execution_count": 6,
   "metadata": {},
   "outputs": [
    {
     "name": "stdout",
     "output_type": "stream",
     "text": [
      "SGDRegressor(alpha=0.001, average=False, epsilon=0.1, eta0=0.01,\n",
      "       fit_intercept=True, l1_ratio=0.15, learning_rate='optimal',\n",
      "       loss='squared_loss', max_iter=None, n_iter=10000, penalty='l2',\n",
      "       power_t=0.25, random_state=None, shuffle=True, tol=None, verbose=0,\n",
      "       warm_start=False)\n"
     ]
    },
    {
     "data": {
      "text/plain": [
       "0.71175025604763309"
      ]
     },
     "execution_count": 6,
     "metadata": {},
     "output_type": "execute_result"
    }
   ],
   "source": [
    "# Used warnings just to remove the deprecated warning generated due to the use of n_iter\n",
    "import warnings\n",
    "warnings.filterwarnings('ignore')\n",
    "\n",
    "clfSGD = SGDRegressor()\n",
    "grid = { 'alpha' : [0.001, 0.0001, 0.00001],\n",
    "        'n_iter' : [100,1000,10000],\n",
    "        'learning_rate' : ['constant','optimal','invscaling']\n",
    "       }\n",
    "SGD = GridSearchCV(clfSGD,grid)\n",
    "SGD.fit(X_train,Y_train)\n",
    "\n",
    "\n",
    "final_SGD = SGD.best_estimator_\n",
    "print(final_SGD)\n",
    "\n",
    "final_SGD.fit(X_train,Y_train)\n",
    "final_prediction = final_SGD.predict(X_test)\n",
    "r2_score(Y_test,final_prediction)"
   ]
  },
  {
   "cell_type": "markdown",
   "metadata": {},
   "source": [
    "## Decision Tree Regressor"
   ]
  },
  {
   "cell_type": "code",
   "execution_count": 7,
   "metadata": {},
   "outputs": [
    {
     "name": "stdout",
     "output_type": "stream",
     "text": [
      "DecisionTreeRegressor(criterion='mae', max_depth=5, max_features=None,\n",
      "           max_leaf_nodes=None, min_impurity_decrease=0.0,\n",
      "           min_impurity_split=None, min_samples_leaf=1,\n",
      "           min_samples_split=2, min_weight_fraction_leaf=0.0,\n",
      "           presort=False, random_state=None, splitter='best')\n"
     ]
    },
    {
     "data": {
      "text/plain": [
       "0.80609010093116262"
      ]
     },
     "execution_count": 7,
     "metadata": {},
     "output_type": "execute_result"
    }
   ],
   "source": [
    "clfDT = DecisionTreeRegressor()\n",
    "grid = { 'max_depth' : [2,3,4,5,6,7,8,9],\n",
    "       'criterion' : [\"mse\", \"friedman_mse\", \"mae\"]}\n",
    "DT = GridSearchCV(clfDT,grid)\n",
    "DT.fit(X_train,Y_train)\n",
    "\n",
    "final_DT = DT.best_estimator_\n",
    "print(final_DT)\n",
    "\n",
    "final_DT.fit(X_train,Y_train)\n",
    "final_prediction = final_DT.predict(X_test)\n",
    "r2_score(Y_test,final_prediction)"
   ]
  },
  {
   "cell_type": "markdown",
   "metadata": {},
   "source": [
    "## SVM Regressor"
   ]
  },
  {
   "cell_type": "code",
   "execution_count": 8,
   "metadata": {},
   "outputs": [
    {
     "name": "stdout",
     "output_type": "stream",
     "text": [
      "SVR(C=1.0, cache_size=200, coef0=0.0, degree=3, epsilon=0.1, gamma='auto',\n",
      "  kernel='linear', max_iter=-1, shrinking=True, tol=0.001, verbose=False)\n"
     ]
    },
    {
     "data": {
      "text/plain": [
       "0.65539195025561703"
      ]
     },
     "execution_count": 8,
     "metadata": {},
     "output_type": "execute_result"
    }
   ],
   "source": [
    "clfSVM = svm.SVR()\n",
    "grid = {'kernel' : [ 'linear', 'poly', 'rbf', 'sigmoid']}\n",
    "SVM = GridSearchCV(clfSVM,grid)\n",
    "SVM.fit(X_train,Y_train)\n",
    "\n",
    "final_SVM = SVM.best_estimator_\n",
    "print(final_SVM)\n",
    "\n",
    "final_SVM.fit(X_train,Y_train)\n",
    "final_prediction = final_SVM.predict(X_test)\n",
    "r2_score(Y_test,final_prediction)"
   ]
  },
  {
   "cell_type": "code",
   "execution_count": null,
   "metadata": {
    "collapsed": true
   },
   "outputs": [],
   "source": []
  }
 ],
 "metadata": {
  "kernelspec": {
   "display_name": "Python 3",
   "language": "python",
   "name": "python3"
  },
  "language_info": {
   "codemirror_mode": {
    "name": "ipython",
    "version": 3
   },
   "file_extension": ".py",
   "mimetype": "text/x-python",
   "name": "python",
   "nbconvert_exporter": "python",
   "pygments_lexer": "ipython3",
   "version": "3.6.3"
  }
 },
 "nbformat": 4,
 "nbformat_minor": 2
}
